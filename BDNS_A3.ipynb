{
  "nbformat": 4,
  "nbformat_minor": 0,
  "metadata": {
    "colab": {
      "provenance": [],
      "gpuType": "T4",
      "include_colab_link": true
    },
    "kernelspec": {
      "name": "python3",
      "display_name": "Python 3"
    },
    "language_info": {
      "name": "python"
    },
    "accelerator": "GPU"
  },
  "cells": [
    {
      "cell_type": "markdown",
      "metadata": {
        "id": "view-in-github",
        "colab_type": "text"
      },
      "source": [
        "<a href=\"https://colab.research.google.com/github/I8KIDZ/cloudass/blob/main/BDNS_A3.ipynb\" target=\"_parent\"><img src=\"https://colab.research.google.com/assets/colab-badge.svg\" alt=\"Open In Colab\"/></a>"
      ]
    },
    {
      "cell_type": "markdown",
      "source": [
        "# **Unzipping and Checking Data**"
      ],
      "metadata": {
        "id": "0_j47wiIcYMv"
      }
    },
    {
      "cell_type": "code",
      "execution_count": 3,
      "metadata": {
        "colab": {
          "base_uri": "https://localhost:8080/"
        },
        "id": "7Rg3PnwlC3cF",
        "outputId": "21d8909d-98ea-4f6b-f27a-de3256f8f464"
      },
      "outputs": [
        {
          "output_type": "stream",
          "name": "stdout",
          "text": [
            "unzip:  cannot find or open Dataset.zip, Dataset.zip.zip or Dataset.zip.ZIP.\n"
          ]
        }
      ],
      "source": [
        "!unzip -o Dataset.zip -d /content/"
      ]
    },
    {
      "cell_type": "code",
      "source": [
        "import pandas as pd\n",
        "\n",
        "# Load the datasets\n",
        "trip_df = pd.read_csv('/content/taxi_trip_data.csv')\n",
        "zone_df = pd.read_csv('/content/taxi_zone_geo.csv')\n",
        "\n",
        "# Show basic info\n",
        "print(\"Trip Data Info:\")\n",
        "print(trip_df.info())\n",
        "print(\"\\nTrip Data Sample:\")\n",
        "print(trip_df.head())\n",
        "\n",
        "print(\"\\nZone Data Info:\")\n",
        "print(zone_df.info())\n",
        "print(\"\\nZone Data Sample:\")\n",
        "print(zone_df.head())"
      ],
      "metadata": {
        "colab": {
          "base_uri": "https://localhost:8080/"
        },
        "id": "-rPcFFTQOWhN",
        "outputId": "fa31697b-b83e-4b08-ceb8-1f8b19735bb6"
      },
      "execution_count": 4,
      "outputs": [
        {
          "output_type": "stream",
          "name": "stdout",
          "text": [
            "Trip Data Info:\n",
            "<class 'pandas.core.frame.DataFrame'>\n",
            "RangeIndex: 197842 entries, 0 to 197841\n",
            "Data columns (total 16 columns):\n",
            " #   Column               Non-Null Count   Dtype  \n",
            "---  ------               --------------   -----  \n",
            " 0   vendor_id            197842 non-null  int64  \n",
            " 1   pickup_datetime      197842 non-null  object \n",
            " 2   dropoff_datetime     197842 non-null  object \n",
            " 3   passenger_count      197842 non-null  int64  \n",
            " 4   trip_distance        197842 non-null  float64\n",
            " 5   rate_code            197842 non-null  int64  \n",
            " 6   store_and_fwd_flag   197842 non-null  object \n",
            " 7   payment_type         197842 non-null  int64  \n",
            " 8   fare_amount          197842 non-null  float64\n",
            " 9   extra                197842 non-null  float64\n",
            " 10  mta_tax              197842 non-null  float64\n",
            " 11  tip_amount           197841 non-null  float64\n",
            " 12  tolls_amount         197841 non-null  float64\n",
            " 13  imp_surcharge        197841 non-null  float64\n",
            " 14  pickup_location_id   197841 non-null  float64\n",
            " 15  dropoff_location_id  197841 non-null  float64\n",
            "dtypes: float64(9), int64(4), object(3)\n",
            "memory usage: 24.2+ MB\n",
            "None\n",
            "\n",
            "Trip Data Sample:\n",
            "   vendor_id   pickup_datetime  dropoff_datetime  passenger_count  \\\n",
            "0          1   5/11/2018 17:40   5/11/2018 17:55                1   \n",
            "1          2   3/22/2018 23:01   3/22/2018 23:25                1   \n",
            "2          2    7/24/2018 9:58   7/24/2018 10:22                1   \n",
            "3          2  12/21/2018 18:28  12/21/2018 18:35                1   \n",
            "4          1   8/15/2018 13:58   8/15/2018 14:05                1   \n",
            "\n",
            "   trip_distance  rate_code store_and_fwd_flag  payment_type  fare_amount  \\\n",
            "0           1.60          1                  N             1         11.5   \n",
            "1           9.52          1                  N             1         28.5   \n",
            "2           2.17          1                  N             1         15.5   \n",
            "3           0.86          1                  N             2          6.0   \n",
            "4           0.30          1                  N             2          5.5   \n",
            "\n",
            "   extra  mta_tax  tip_amount  tolls_amount  imp_surcharge  \\\n",
            "0    1.0      0.5        0.00           0.0            0.3   \n",
            "1    0.5      0.5        5.96           0.0            0.3   \n",
            "2    0.0      0.5        1.50           0.0            0.3   \n",
            "3    1.0      0.5        0.00           0.0            0.3   \n",
            "4    0.0      0.5        0.00           0.0            0.3   \n",
            "\n",
            "   pickup_location_id  dropoff_location_id  \n",
            "0                48.0                 68.0  \n",
            "1               138.0                230.0  \n",
            "2               234.0                 48.0  \n",
            "3                79.0                125.0  \n",
            "4               233.0                233.0  \n",
            "\n",
            "Zone Data Info:\n",
            "<class 'pandas.core.frame.DataFrame'>\n",
            "RangeIndex: 263 entries, 0 to 262\n",
            "Data columns (total 4 columns):\n",
            " #   Column     Non-Null Count  Dtype \n",
            "---  ------     --------------  ----- \n",
            " 0   zone_id    263 non-null    int64 \n",
            " 1   zone_name  263 non-null    object\n",
            " 2   borough    263 non-null    object\n",
            " 3   zone_geom  263 non-null    object\n",
            "dtypes: int64(1), object(3)\n",
            "memory usage: 8.3+ KB\n",
            "None\n",
            "\n",
            "Zone Data Sample:\n",
            "   zone_id                zone_name borough  \\\n",
            "0        1           Newark Airport     EWR   \n",
            "1        3  Allerton/Pelham Gardens   Bronx   \n",
            "2       18             Bedford Park   Bronx   \n",
            "3       20                  Belmont   Bronx   \n",
            "4       31               Bronx Park   Bronx   \n",
            "\n",
            "                                           zone_geom  \n",
            "0  POLYGON((-74.1856319999999 40.6916479999999, -...  \n",
            "1  POLYGON((-73.848596761 40.8716707849999, -73.8...  \n",
            "2  POLYGON((-73.8844286139999 40.8668003789999, -...  \n",
            "3  POLYGON((-73.8839239579998 40.8644177609999, -...  \n",
            "4  POLYGON((-73.8710017319999 40.8572767429999, -...  \n"
          ]
        }
      ]
    },
    {
      "cell_type": "code",
      "source": [
        "# Check for nulls and zero values\n",
        "print(\"trip_df\")\n",
        "print(\"Missing values:\\n\", trip_df.isnull().sum())\n",
        "print(\"\\nZero values:\\n\", (trip_df == 0).sum())\n",
        "print(\"\\n\")\n",
        "print(\"zone_df\")\n",
        "print(\"Missing values:\\n\", zone_df.isnull().sum())\n",
        "print(\"\\nZero values:\\n\", (zone_df == 0).sum())"
      ],
      "metadata": {
        "colab": {
          "base_uri": "https://localhost:8080/"
        },
        "id": "UWu8kkQcP_D_",
        "outputId": "73f8cb77-732b-4be6-f595-d563937170e9"
      },
      "execution_count": 5,
      "outputs": [
        {
          "output_type": "stream",
          "name": "stdout",
          "text": [
            "trip_df\n",
            "Missing values:\n",
            " vendor_id              0\n",
            "pickup_datetime        0\n",
            "dropoff_datetime       0\n",
            "passenger_count        0\n",
            "trip_distance          0\n",
            "rate_code              0\n",
            "store_and_fwd_flag     0\n",
            "payment_type           0\n",
            "fare_amount            0\n",
            "extra                  0\n",
            "mta_tax                0\n",
            "tip_amount             1\n",
            "tolls_amount           1\n",
            "imp_surcharge          1\n",
            "pickup_location_id     1\n",
            "dropoff_location_id    1\n",
            "dtype: int64\n",
            "\n",
            "Zero values:\n",
            " vendor_id                   0\n",
            "pickup_datetime             0\n",
            "dropoff_datetime            0\n",
            "passenger_count          1750\n",
            "trip_distance            1338\n",
            "rate_code                   0\n",
            "store_and_fwd_flag          0\n",
            "payment_type                0\n",
            "fare_amount                43\n",
            "extra                  105347\n",
            "mta_tax                   840\n",
            "tip_amount              67349\n",
            "tolls_amount           186954\n",
            "imp_surcharge              59\n",
            "pickup_location_id          0\n",
            "dropoff_location_id         0\n",
            "dtype: int64\n",
            "\n",
            "\n",
            "zone_df\n",
            "Missing values:\n",
            " zone_id      0\n",
            "zone_name    0\n",
            "borough      0\n",
            "zone_geom    0\n",
            "dtype: int64\n",
            "\n",
            "Zero values:\n",
            " zone_id      0\n",
            "zone_name    0\n",
            "borough      0\n",
            "zone_geom    0\n",
            "dtype: int64\n"
          ]
        }
      ]
    },
    {
      "cell_type": "code",
      "source": [
        "# Check duplicates in both\n",
        "trip_dups = trip_df.duplicated()\n",
        "zone_dups = zone_df.duplicated()\n",
        "\n",
        "# Report\n",
        "print(f\"Trip Data: {trip_dups.sum()} duplicate rows\")\n",
        "print(f\"Zone Data: {zone_dups.sum()} duplicate rows\")"
      ],
      "metadata": {
        "colab": {
          "base_uri": "https://localhost:8080/"
        },
        "id": "By0N39mdTxvj",
        "outputId": "efaf77f7-5d07-4285-b5c2-fbae1d36f920"
      },
      "execution_count": 6,
      "outputs": [
        {
          "output_type": "stream",
          "name": "stdout",
          "text": [
            "Trip Data: 32 duplicate rows\n",
            "Zone Data: 0 duplicate rows\n"
          ]
        }
      ]
    },
    {
      "cell_type": "markdown",
      "source": [
        "# **zone_df dataset has no duplicates, null or missing values. Hence it needs no cleaning.**"
      ],
      "metadata": {
        "id": "qwad2Io0V5M9"
      }
    },
    {
      "cell_type": "markdown",
      "source": [
        "# **1. Data Cleaning & Engineering**"
      ],
      "metadata": {
        "id": "LIFSCGbkQCut"
      }
    },
    {
      "cell_type": "code",
      "source": [
        "# Clean zero-value records\n",
        "initial_rows = trip_df.shape[0]\n",
        "\n",
        "trip_df = trip_df[\n",
        "    (trip_df['passenger_count'] > 0) &\n",
        "    (trip_df['trip_distance'] > 0) &\n",
        "    (trip_df['fare_amount'] > 0)\n",
        "]\n",
        "\n",
        "print(f\"Rows before cleaning: {initial_rows}\")\n",
        "print(f\"Rows after cleaning: {trip_df.shape[0]}\")"
      ],
      "metadata": {
        "colab": {
          "base_uri": "https://localhost:8080/"
        },
        "id": "E2qIZxNDQMwC",
        "outputId": "4cec7c39-bad3-4fc9-d77e-42785197bf48"
      },
      "execution_count": 7,
      "outputs": [
        {
          "output_type": "stream",
          "name": "stdout",
          "text": [
            "Rows before cleaning: 197842\n",
            "Rows after cleaning: 194654\n"
          ]
        }
      ]
    },
    {
      "cell_type": "code",
      "source": [
        "# Drop duplicates\n",
        "before_dedup = trip_df.shape[0]\n",
        "trip_df = trip_df.drop_duplicates()\n",
        "after_dedup = trip_df.shape[0]\n",
        "print(f\"Removed duplicates: {before_dedup - after_dedup}\")\n",
        "\n",
        "# Drop irrelevant columns\n",
        "columns_to_drop = ['store_and_fwd_flag']\n",
        "trip_df = trip_df.drop(columns=columns_to_drop)\n",
        "\n",
        "# Confirm new shape\n",
        "print(\"Remaining columns:\", trip_df.columns.tolist())"
      ],
      "metadata": {
        "colab": {
          "base_uri": "https://localhost:8080/"
        },
        "id": "x0Q9syhqQSaS",
        "outputId": "73a116fc-a5b1-4970-cdd2-f23bd7bb2e75"
      },
      "execution_count": 8,
      "outputs": [
        {
          "output_type": "stream",
          "name": "stdout",
          "text": [
            "Removed duplicates: 32\n",
            "Remaining columns: ['vendor_id', 'pickup_datetime', 'dropoff_datetime', 'passenger_count', 'trip_distance', 'rate_code', 'payment_type', 'fare_amount', 'extra', 'mta_tax', 'tip_amount', 'tolls_amount', 'imp_surcharge', 'pickup_location_id', 'dropoff_location_id']\n"
          ]
        }
      ]
    },
    {
      "cell_type": "code",
      "source": [
        "# Convert to datetime\n",
        "trip_df['pickup_datetime'] = pd.to_datetime(trip_df['pickup_datetime'])\n",
        "trip_df['dropoff_datetime'] = pd.to_datetime(trip_df['dropoff_datetime'])\n",
        "\n",
        "# Compute trip duration\n",
        "trip_df['trip_duration_minutes'] = (trip_df['dropoff_datetime'] - trip_df['pickup_datetime']).dt.total_seconds() / 60\n",
        "\n",
        "# Filter out negative or 0 durations\n",
        "before_filter = trip_df.shape[0]\n",
        "trip_df = trip_df[trip_df['trip_duration_minutes'] > 0]\n",
        "after_filter = trip_df.shape[0]\n",
        "\n",
        "print(f\"Removed {before_filter - after_filter} rows with non-positive durations\")\n",
        "print(trip_df[['pickup_datetime', 'dropoff_datetime', 'trip_duration_minutes']].head())"
      ],
      "metadata": {
        "colab": {
          "base_uri": "https://localhost:8080/"
        },
        "id": "Mr-nw4wEQYXQ",
        "outputId": "d172638c-bd89-4e8b-b8d7-90de89ec79d4"
      },
      "execution_count": 9,
      "outputs": [
        {
          "output_type": "stream",
          "name": "stdout",
          "text": [
            "Removed 317 rows with non-positive durations\n",
            "      pickup_datetime    dropoff_datetime  trip_duration_minutes\n",
            "0 2018-05-11 17:40:00 2018-05-11 17:55:00                   15.0\n",
            "1 2018-03-22 23:01:00 2018-03-22 23:25:00                   24.0\n",
            "2 2018-07-24 09:58:00 2018-07-24 10:22:00                   24.0\n",
            "3 2018-12-21 18:28:00 2018-12-21 18:35:00                    7.0\n",
            "4 2018-08-15 13:58:00 2018-08-15 14:05:00                    7.0\n"
          ]
        }
      ]
    },
    {
      "cell_type": "code",
      "source": [
        "# Compute total trip cost\n",
        "trip_df.loc[:, 'total_trip_cost'] = (\n",
        "    trip_df['fare_amount'] +\n",
        "    trip_df['extra'] +\n",
        "    trip_df['mta_tax'] +\n",
        "    trip_df['tip_amount'] +\n",
        "    trip_df['tolls_amount'] +\n",
        "    trip_df['imp_surcharge']\n",
        ")\n",
        "\n",
        "# Preview\n",
        "print(trip_df[['fare_amount', 'extra', 'mta_tax', 'tip_amount', 'tolls_amount', 'total_trip_cost']].head())"
      ],
      "metadata": {
        "colab": {
          "base_uri": "https://localhost:8080/"
        },
        "id": "tVk-fRcZQeww",
        "outputId": "99432caf-e082-4959-a454-f5eaaa7e7312"
      },
      "execution_count": 10,
      "outputs": [
        {
          "output_type": "stream",
          "name": "stdout",
          "text": [
            "   fare_amount  extra  mta_tax  tip_amount  tolls_amount  total_trip_cost\n",
            "0         11.5    1.0      0.5        0.00           0.0            13.30\n",
            "1         28.5    0.5      0.5        5.96           0.0            35.76\n",
            "2         15.5    0.0      0.5        1.50           0.0            17.80\n",
            "3          6.0    1.0      0.5        0.00           0.0             7.80\n",
            "4          5.5    0.0      0.5        0.00           0.0             6.30\n"
          ]
        },
        {
          "output_type": "stream",
          "name": "stderr",
          "text": [
            "<ipython-input-10-7e1e5fcf5136>:2: SettingWithCopyWarning: \n",
            "A value is trying to be set on a copy of a slice from a DataFrame.\n",
            "Try using .loc[row_indexer,col_indexer] = value instead\n",
            "\n",
            "See the caveats in the documentation: https://pandas.pydata.org/pandas-docs/stable/user_guide/indexing.html#returning-a-view-versus-a-copy\n",
            "  trip_df.loc[:, 'total_trip_cost'] = (\n"
          ]
        }
      ]
    },
    {
      "cell_type": "code",
      "source": [
        "# Rename for merging\n",
        "pickup_zone_df = zone_df.rename(columns={\n",
        "    'zone_id': 'pickup_location_id',\n",
        "    'zone_name': 'pickup_zone',\n",
        "    'borough': 'pickup_borough'\n",
        "}).drop(columns=['zone_geom'])\n",
        "\n",
        "dropoff_zone_df = zone_df.rename(columns={\n",
        "    'zone_id': 'dropoff_location_id',\n",
        "    'zone_name': 'dropoff_zone',\n",
        "    'borough': 'dropoff_borough'\n",
        "}).drop(columns=['zone_geom'])\n",
        "\n",
        "# Merge with trip data\n",
        "trip_df = trip_df.merge(pickup_zone_df, on='pickup_location_id', how='left')\n",
        "trip_df = trip_df.merge(dropoff_zone_df, on='dropoff_location_id', how='left')\n",
        "\n",
        "# Show confirmation\n",
        "print(trip_df[['pickup_location_id', 'pickup_zone', 'pickup_borough', 'dropoff_location_id', 'dropoff_zone', 'dropoff_borough']].head())"
      ],
      "metadata": {
        "colab": {
          "base_uri": "https://localhost:8080/"
        },
        "id": "JecGbTIAQgfu",
        "outputId": "68e2484c-4a61-4059-b311-3d72f74abf47"
      },
      "execution_count": 11,
      "outputs": [
        {
          "output_type": "stream",
          "name": "stdout",
          "text": [
            "   pickup_location_id          pickup_zone pickup_borough  \\\n",
            "0                48.0         Clinton East      Manhattan   \n",
            "1               138.0    LaGuardia Airport         Queens   \n",
            "2               234.0             Union Sq      Manhattan   \n",
            "3                79.0         East Village      Manhattan   \n",
            "4               233.0  UN/Turtle Bay South      Manhattan   \n",
            "\n",
            "   dropoff_location_id               dropoff_zone dropoff_borough  \n",
            "0                 68.0               East Chelsea       Manhattan  \n",
            "1                230.0  Times Sq/Theatre District       Manhattan  \n",
            "2                 48.0               Clinton East       Manhattan  \n",
            "3                125.0                  Hudson Sq       Manhattan  \n",
            "4                233.0        UN/Turtle Bay South       Manhattan  \n"
          ]
        }
      ]
    },
    {
      "cell_type": "code",
      "source": [
        "# Check for nulls and zero values\n",
        "print(\"trip_df\")\n",
        "print(\"Missing values:\\n\", trip_df.isnull().sum())\n",
        "print(\"\\nZero values:\\n\", (trip_df == 0).sum())\n",
        "print(\"\\n\")\n",
        "print(\"zone_df\")\n",
        "print(\"Missing values:\\n\", zone_df.isnull().sum())\n",
        "print(\"\\nZero values:\\n\", (zone_df == 0).sum())"
      ],
      "metadata": {
        "colab": {
          "base_uri": "https://localhost:8080/"
        },
        "id": "Js16UO_5aY8R",
        "outputId": "add81d69-d99e-451c-b533-f489732606bd"
      },
      "execution_count": 12,
      "outputs": [
        {
          "output_type": "stream",
          "name": "stdout",
          "text": [
            "trip_df\n",
            "Missing values:\n",
            " vendor_id                   0\n",
            "pickup_datetime             0\n",
            "dropoff_datetime            0\n",
            "passenger_count             0\n",
            "trip_distance               0\n",
            "rate_code                   0\n",
            "payment_type                0\n",
            "fare_amount                 0\n",
            "extra                       0\n",
            "mta_tax                     0\n",
            "tip_amount                  1\n",
            "tolls_amount                1\n",
            "imp_surcharge               1\n",
            "pickup_location_id          1\n",
            "dropoff_location_id         1\n",
            "trip_duration_minutes       0\n",
            "total_trip_cost             1\n",
            "pickup_zone              2883\n",
            "pickup_borough           2883\n",
            "dropoff_zone             2927\n",
            "dropoff_borough          2927\n",
            "dtype: int64\n",
            "\n",
            "Zero values:\n",
            " vendor_id                     0\n",
            "pickup_datetime               0\n",
            "dropoff_datetime              0\n",
            "passenger_count               0\n",
            "trip_distance                 0\n",
            "rate_code                     0\n",
            "payment_type                  0\n",
            "fare_amount                   0\n",
            "extra                    103177\n",
            "mta_tax                     561\n",
            "tip_amount                65545\n",
            "tolls_amount             183726\n",
            "imp_surcharge                13\n",
            "pickup_location_id            0\n",
            "dropoff_location_id           0\n",
            "trip_duration_minutes         0\n",
            "total_trip_cost               0\n",
            "pickup_zone                   0\n",
            "pickup_borough                0\n",
            "dropoff_zone                  0\n",
            "dropoff_borough               0\n",
            "dtype: int64\n",
            "\n",
            "\n",
            "zone_df\n",
            "Missing values:\n",
            " zone_id      0\n",
            "zone_name    0\n",
            "borough      0\n",
            "zone_geom    0\n",
            "dtype: int64\n",
            "\n",
            "Zero values:\n",
            " zone_id      0\n",
            "zone_name    0\n",
            "borough      0\n",
            "zone_geom    0\n",
            "dtype: int64\n"
          ]
        }
      ]
    },
    {
      "cell_type": "code",
      "source": [
        "# Drop trips with missing zone/borough info\n",
        "before_dropna = trip_df.shape[0]\n",
        "trip_df = trip_df.dropna(subset=['pickup_zone', 'dropoff_zone'])\n",
        "after_dropna = trip_df.shape[0]\n",
        "\n",
        "print(f\"Removed {before_dropna - after_dropna} rows with missing pickup/dropoff zone data\")"
      ],
      "metadata": {
        "colab": {
          "base_uri": "https://localhost:8080/"
        },
        "id": "aLH8CmWlaWki",
        "outputId": "34f3693d-98cb-4801-cbf1-1be535bfa502"
      },
      "execution_count": 13,
      "outputs": [
        {
          "output_type": "stream",
          "name": "stdout",
          "text": [
            "Removed 3309 rows with missing pickup/dropoff zone data\n"
          ]
        }
      ]
    },
    {
      "cell_type": "code",
      "source": [
        "trip_df"
      ],
      "metadata": {
        "colab": {
          "base_uri": "https://localhost:8080/",
          "height": 634
        },
        "id": "blX_qghEVH4W",
        "outputId": "649a073c-2af9-4d51-e82d-3f955f5f5958"
      },
      "execution_count": 14,
      "outputs": [
        {
          "output_type": "execute_result",
          "data": {
            "text/plain": [
              "        vendor_id     pickup_datetime    dropoff_datetime  passenger_count  \\\n",
              "0               1 2018-05-11 17:40:00 2018-05-11 17:55:00                1   \n",
              "1               2 2018-03-22 23:01:00 2018-03-22 23:25:00                1   \n",
              "2               2 2018-07-24 09:58:00 2018-07-24 10:22:00                1   \n",
              "3               2 2018-12-21 18:28:00 2018-12-21 18:35:00                1   \n",
              "4               1 2018-08-15 13:58:00 2018-08-15 14:05:00                1   \n",
              "...           ...                 ...                 ...              ...   \n",
              "194356          2 2018-08-30 20:42:00 2018-08-30 21:14:00                1   \n",
              "194357          1 2018-02-13 21:56:00 2018-02-13 21:59:00                1   \n",
              "194358          1 2018-05-16 22:02:00 2018-05-16 22:26:00                1   \n",
              "194359          2 2018-08-23 22:16:00 2018-08-23 22:24:00                1   \n",
              "194360          1 2018-01-18 06:37:00 2018-01-18 06:41:00                1   \n",
              "\n",
              "        trip_distance  rate_code  payment_type  fare_amount  extra  mta_tax  \\\n",
              "0                1.60          1             1         11.5    1.0      0.5   \n",
              "1                9.52          1             1         28.5    0.5      0.5   \n",
              "2                2.17          1             1         15.5    0.0      0.5   \n",
              "3                0.86          1             2          6.0    1.0      0.5   \n",
              "4                0.30          1             2          5.5    0.0      0.5   \n",
              "...               ...        ...           ...          ...    ...      ...   \n",
              "194356           6.71          1             1         25.5    0.5      0.5   \n",
              "194357           0.70          1             3          4.5    0.5      0.5   \n",
              "194358           4.20          1             1         19.0    0.5      0.5   \n",
              "194359           1.36          1             1          7.0    0.5      0.5   \n",
              "194360           0.80          1             1          5.0    0.0      0.5   \n",
              "\n",
              "        ...  tolls_amount  imp_surcharge  pickup_location_id  \\\n",
              "0       ...           0.0            0.3                48.0   \n",
              "1       ...           0.0            0.3               138.0   \n",
              "2       ...           0.0            0.3               234.0   \n",
              "3       ...           0.0            0.3                79.0   \n",
              "4       ...           0.0            0.3               233.0   \n",
              "...     ...           ...            ...                 ...   \n",
              "194356  ...           0.0            0.3               236.0   \n",
              "194357  ...           0.0            0.3               234.0   \n",
              "194358  ...           0.0            0.3               107.0   \n",
              "194359  ...           0.0            0.3               144.0   \n",
              "194360  ...           0.0            0.3               100.0   \n",
              "\n",
              "        dropoff_location_id  trip_duration_minutes  total_trip_cost  \\\n",
              "0                      68.0                   15.0            13.30   \n",
              "1                     230.0                   24.0            35.76   \n",
              "2                      48.0                   24.0            17.80   \n",
              "3                     125.0                    7.0             7.80   \n",
              "4                     233.0                    7.0             6.30   \n",
              "...                     ...                    ...              ...   \n",
              "194356                244.0                   32.0            29.00   \n",
              "194357                113.0                    3.0             5.80   \n",
              "194358                261.0                   24.0            24.35   \n",
              "194359                261.0                    8.0            10.38   \n",
              "194360                163.0                    4.0             6.80   \n",
              "\n",
              "                  pickup_zone pickup_borough               dropoff_zone  \\\n",
              "0                Clinton East      Manhattan               East Chelsea   \n",
              "1           LaGuardia Airport         Queens  Times Sq/Theatre District   \n",
              "2                    Union Sq      Manhattan               Clinton East   \n",
              "3                East Village      Manhattan                  Hudson Sq   \n",
              "4         UN/Turtle Bay South      Manhattan        UN/Turtle Bay South   \n",
              "...                       ...            ...                        ...   \n",
              "194356  Upper East Side North      Manhattan   Washington Heights South   \n",
              "194357               Union Sq      Manhattan    Greenwich Village North   \n",
              "194358               Gramercy      Manhattan         World Trade Center   \n",
              "194359    Little Italy/NoLiTa      Manhattan         World Trade Center   \n",
              "194360       Garment District      Manhattan              Midtown North   \n",
              "\n",
              "       dropoff_borough  \n",
              "0            Manhattan  \n",
              "1            Manhattan  \n",
              "2            Manhattan  \n",
              "3            Manhattan  \n",
              "4            Manhattan  \n",
              "...                ...  \n",
              "194356       Manhattan  \n",
              "194357       Manhattan  \n",
              "194358       Manhattan  \n",
              "194359       Manhattan  \n",
              "194360       Manhattan  \n",
              "\n",
              "[191053 rows x 21 columns]"
            ],
            "text/html": [
              "\n",
              "  <div id=\"df-29982cdf-d508-48f5-b63f-7d7b9a4690a7\" class=\"colab-df-container\">\n",
              "    <div>\n",
              "<style scoped>\n",
              "    .dataframe tbody tr th:only-of-type {\n",
              "        vertical-align: middle;\n",
              "    }\n",
              "\n",
              "    .dataframe tbody tr th {\n",
              "        vertical-align: top;\n",
              "    }\n",
              "\n",
              "    .dataframe thead th {\n",
              "        text-align: right;\n",
              "    }\n",
              "</style>\n",
              "<table border=\"1\" class=\"dataframe\">\n",
              "  <thead>\n",
              "    <tr style=\"text-align: right;\">\n",
              "      <th></th>\n",
              "      <th>vendor_id</th>\n",
              "      <th>pickup_datetime</th>\n",
              "      <th>dropoff_datetime</th>\n",
              "      <th>passenger_count</th>\n",
              "      <th>trip_distance</th>\n",
              "      <th>rate_code</th>\n",
              "      <th>payment_type</th>\n",
              "      <th>fare_amount</th>\n",
              "      <th>extra</th>\n",
              "      <th>mta_tax</th>\n",
              "      <th>...</th>\n",
              "      <th>tolls_amount</th>\n",
              "      <th>imp_surcharge</th>\n",
              "      <th>pickup_location_id</th>\n",
              "      <th>dropoff_location_id</th>\n",
              "      <th>trip_duration_minutes</th>\n",
              "      <th>total_trip_cost</th>\n",
              "      <th>pickup_zone</th>\n",
              "      <th>pickup_borough</th>\n",
              "      <th>dropoff_zone</th>\n",
              "      <th>dropoff_borough</th>\n",
              "    </tr>\n",
              "  </thead>\n",
              "  <tbody>\n",
              "    <tr>\n",
              "      <th>0</th>\n",
              "      <td>1</td>\n",
              "      <td>2018-05-11 17:40:00</td>\n",
              "      <td>2018-05-11 17:55:00</td>\n",
              "      <td>1</td>\n",
              "      <td>1.60</td>\n",
              "      <td>1</td>\n",
              "      <td>1</td>\n",
              "      <td>11.5</td>\n",
              "      <td>1.0</td>\n",
              "      <td>0.5</td>\n",
              "      <td>...</td>\n",
              "      <td>0.0</td>\n",
              "      <td>0.3</td>\n",
              "      <td>48.0</td>\n",
              "      <td>68.0</td>\n",
              "      <td>15.0</td>\n",
              "      <td>13.30</td>\n",
              "      <td>Clinton East</td>\n",
              "      <td>Manhattan</td>\n",
              "      <td>East Chelsea</td>\n",
              "      <td>Manhattan</td>\n",
              "    </tr>\n",
              "    <tr>\n",
              "      <th>1</th>\n",
              "      <td>2</td>\n",
              "      <td>2018-03-22 23:01:00</td>\n",
              "      <td>2018-03-22 23:25:00</td>\n",
              "      <td>1</td>\n",
              "      <td>9.52</td>\n",
              "      <td>1</td>\n",
              "      <td>1</td>\n",
              "      <td>28.5</td>\n",
              "      <td>0.5</td>\n",
              "      <td>0.5</td>\n",
              "      <td>...</td>\n",
              "      <td>0.0</td>\n",
              "      <td>0.3</td>\n",
              "      <td>138.0</td>\n",
              "      <td>230.0</td>\n",
              "      <td>24.0</td>\n",
              "      <td>35.76</td>\n",
              "      <td>LaGuardia Airport</td>\n",
              "      <td>Queens</td>\n",
              "      <td>Times Sq/Theatre District</td>\n",
              "      <td>Manhattan</td>\n",
              "    </tr>\n",
              "    <tr>\n",
              "      <th>2</th>\n",
              "      <td>2</td>\n",
              "      <td>2018-07-24 09:58:00</td>\n",
              "      <td>2018-07-24 10:22:00</td>\n",
              "      <td>1</td>\n",
              "      <td>2.17</td>\n",
              "      <td>1</td>\n",
              "      <td>1</td>\n",
              "      <td>15.5</td>\n",
              "      <td>0.0</td>\n",
              "      <td>0.5</td>\n",
              "      <td>...</td>\n",
              "      <td>0.0</td>\n",
              "      <td>0.3</td>\n",
              "      <td>234.0</td>\n",
              "      <td>48.0</td>\n",
              "      <td>24.0</td>\n",
              "      <td>17.80</td>\n",
              "      <td>Union Sq</td>\n",
              "      <td>Manhattan</td>\n",
              "      <td>Clinton East</td>\n",
              "      <td>Manhattan</td>\n",
              "    </tr>\n",
              "    <tr>\n",
              "      <th>3</th>\n",
              "      <td>2</td>\n",
              "      <td>2018-12-21 18:28:00</td>\n",
              "      <td>2018-12-21 18:35:00</td>\n",
              "      <td>1</td>\n",
              "      <td>0.86</td>\n",
              "      <td>1</td>\n",
              "      <td>2</td>\n",
              "      <td>6.0</td>\n",
              "      <td>1.0</td>\n",
              "      <td>0.5</td>\n",
              "      <td>...</td>\n",
              "      <td>0.0</td>\n",
              "      <td>0.3</td>\n",
              "      <td>79.0</td>\n",
              "      <td>125.0</td>\n",
              "      <td>7.0</td>\n",
              "      <td>7.80</td>\n",
              "      <td>East Village</td>\n",
              "      <td>Manhattan</td>\n",
              "      <td>Hudson Sq</td>\n",
              "      <td>Manhattan</td>\n",
              "    </tr>\n",
              "    <tr>\n",
              "      <th>4</th>\n",
              "      <td>1</td>\n",
              "      <td>2018-08-15 13:58:00</td>\n",
              "      <td>2018-08-15 14:05:00</td>\n",
              "      <td>1</td>\n",
              "      <td>0.30</td>\n",
              "      <td>1</td>\n",
              "      <td>2</td>\n",
              "      <td>5.5</td>\n",
              "      <td>0.0</td>\n",
              "      <td>0.5</td>\n",
              "      <td>...</td>\n",
              "      <td>0.0</td>\n",
              "      <td>0.3</td>\n",
              "      <td>233.0</td>\n",
              "      <td>233.0</td>\n",
              "      <td>7.0</td>\n",
              "      <td>6.30</td>\n",
              "      <td>UN/Turtle Bay South</td>\n",
              "      <td>Manhattan</td>\n",
              "      <td>UN/Turtle Bay South</td>\n",
              "      <td>Manhattan</td>\n",
              "    </tr>\n",
              "    <tr>\n",
              "      <th>...</th>\n",
              "      <td>...</td>\n",
              "      <td>...</td>\n",
              "      <td>...</td>\n",
              "      <td>...</td>\n",
              "      <td>...</td>\n",
              "      <td>...</td>\n",
              "      <td>...</td>\n",
              "      <td>...</td>\n",
              "      <td>...</td>\n",
              "      <td>...</td>\n",
              "      <td>...</td>\n",
              "      <td>...</td>\n",
              "      <td>...</td>\n",
              "      <td>...</td>\n",
              "      <td>...</td>\n",
              "      <td>...</td>\n",
              "      <td>...</td>\n",
              "      <td>...</td>\n",
              "      <td>...</td>\n",
              "      <td>...</td>\n",
              "      <td>...</td>\n",
              "    </tr>\n",
              "    <tr>\n",
              "      <th>194356</th>\n",
              "      <td>2</td>\n",
              "      <td>2018-08-30 20:42:00</td>\n",
              "      <td>2018-08-30 21:14:00</td>\n",
              "      <td>1</td>\n",
              "      <td>6.71</td>\n",
              "      <td>1</td>\n",
              "      <td>1</td>\n",
              "      <td>25.5</td>\n",
              "      <td>0.5</td>\n",
              "      <td>0.5</td>\n",
              "      <td>...</td>\n",
              "      <td>0.0</td>\n",
              "      <td>0.3</td>\n",
              "      <td>236.0</td>\n",
              "      <td>244.0</td>\n",
              "      <td>32.0</td>\n",
              "      <td>29.00</td>\n",
              "      <td>Upper East Side North</td>\n",
              "      <td>Manhattan</td>\n",
              "      <td>Washington Heights South</td>\n",
              "      <td>Manhattan</td>\n",
              "    </tr>\n",
              "    <tr>\n",
              "      <th>194357</th>\n",
              "      <td>1</td>\n",
              "      <td>2018-02-13 21:56:00</td>\n",
              "      <td>2018-02-13 21:59:00</td>\n",
              "      <td>1</td>\n",
              "      <td>0.70</td>\n",
              "      <td>1</td>\n",
              "      <td>3</td>\n",
              "      <td>4.5</td>\n",
              "      <td>0.5</td>\n",
              "      <td>0.5</td>\n",
              "      <td>...</td>\n",
              "      <td>0.0</td>\n",
              "      <td>0.3</td>\n",
              "      <td>234.0</td>\n",
              "      <td>113.0</td>\n",
              "      <td>3.0</td>\n",
              "      <td>5.80</td>\n",
              "      <td>Union Sq</td>\n",
              "      <td>Manhattan</td>\n",
              "      <td>Greenwich Village North</td>\n",
              "      <td>Manhattan</td>\n",
              "    </tr>\n",
              "    <tr>\n",
              "      <th>194358</th>\n",
              "      <td>1</td>\n",
              "      <td>2018-05-16 22:02:00</td>\n",
              "      <td>2018-05-16 22:26:00</td>\n",
              "      <td>1</td>\n",
              "      <td>4.20</td>\n",
              "      <td>1</td>\n",
              "      <td>1</td>\n",
              "      <td>19.0</td>\n",
              "      <td>0.5</td>\n",
              "      <td>0.5</td>\n",
              "      <td>...</td>\n",
              "      <td>0.0</td>\n",
              "      <td>0.3</td>\n",
              "      <td>107.0</td>\n",
              "      <td>261.0</td>\n",
              "      <td>24.0</td>\n",
              "      <td>24.35</td>\n",
              "      <td>Gramercy</td>\n",
              "      <td>Manhattan</td>\n",
              "      <td>World Trade Center</td>\n",
              "      <td>Manhattan</td>\n",
              "    </tr>\n",
              "    <tr>\n",
              "      <th>194359</th>\n",
              "      <td>2</td>\n",
              "      <td>2018-08-23 22:16:00</td>\n",
              "      <td>2018-08-23 22:24:00</td>\n",
              "      <td>1</td>\n",
              "      <td>1.36</td>\n",
              "      <td>1</td>\n",
              "      <td>1</td>\n",
              "      <td>7.0</td>\n",
              "      <td>0.5</td>\n",
              "      <td>0.5</td>\n",
              "      <td>...</td>\n",
              "      <td>0.0</td>\n",
              "      <td>0.3</td>\n",
              "      <td>144.0</td>\n",
              "      <td>261.0</td>\n",
              "      <td>8.0</td>\n",
              "      <td>10.38</td>\n",
              "      <td>Little Italy/NoLiTa</td>\n",
              "      <td>Manhattan</td>\n",
              "      <td>World Trade Center</td>\n",
              "      <td>Manhattan</td>\n",
              "    </tr>\n",
              "    <tr>\n",
              "      <th>194360</th>\n",
              "      <td>1</td>\n",
              "      <td>2018-01-18 06:37:00</td>\n",
              "      <td>2018-01-18 06:41:00</td>\n",
              "      <td>1</td>\n",
              "      <td>0.80</td>\n",
              "      <td>1</td>\n",
              "      <td>1</td>\n",
              "      <td>5.0</td>\n",
              "      <td>0.0</td>\n",
              "      <td>0.5</td>\n",
              "      <td>...</td>\n",
              "      <td>0.0</td>\n",
              "      <td>0.3</td>\n",
              "      <td>100.0</td>\n",
              "      <td>163.0</td>\n",
              "      <td>4.0</td>\n",
              "      <td>6.80</td>\n",
              "      <td>Garment District</td>\n",
              "      <td>Manhattan</td>\n",
              "      <td>Midtown North</td>\n",
              "      <td>Manhattan</td>\n",
              "    </tr>\n",
              "  </tbody>\n",
              "</table>\n",
              "<p>191053 rows × 21 columns</p>\n",
              "</div>\n",
              "    <div class=\"colab-df-buttons\">\n",
              "\n",
              "  <div class=\"colab-df-container\">\n",
              "    <button class=\"colab-df-convert\" onclick=\"convertToInteractive('df-29982cdf-d508-48f5-b63f-7d7b9a4690a7')\"\n",
              "            title=\"Convert this dataframe to an interactive table.\"\n",
              "            style=\"display:none;\">\n",
              "\n",
              "  <svg xmlns=\"http://www.w3.org/2000/svg\" height=\"24px\" viewBox=\"0 -960 960 960\">\n",
              "    <path d=\"M120-120v-720h720v720H120Zm60-500h600v-160H180v160Zm220 220h160v-160H400v160Zm0 220h160v-160H400v160ZM180-400h160v-160H180v160Zm440 0h160v-160H620v160ZM180-180h160v-160H180v160Zm440 0h160v-160H620v160Z\"/>\n",
              "  </svg>\n",
              "    </button>\n",
              "\n",
              "  <style>\n",
              "    .colab-df-container {\n",
              "      display:flex;\n",
              "      gap: 12px;\n",
              "    }\n",
              "\n",
              "    .colab-df-convert {\n",
              "      background-color: #E8F0FE;\n",
              "      border: none;\n",
              "      border-radius: 50%;\n",
              "      cursor: pointer;\n",
              "      display: none;\n",
              "      fill: #1967D2;\n",
              "      height: 32px;\n",
              "      padding: 0 0 0 0;\n",
              "      width: 32px;\n",
              "    }\n",
              "\n",
              "    .colab-df-convert:hover {\n",
              "      background-color: #E2EBFA;\n",
              "      box-shadow: 0px 1px 2px rgba(60, 64, 67, 0.3), 0px 1px 3px 1px rgba(60, 64, 67, 0.15);\n",
              "      fill: #174EA6;\n",
              "    }\n",
              "\n",
              "    .colab-df-buttons div {\n",
              "      margin-bottom: 4px;\n",
              "    }\n",
              "\n",
              "    [theme=dark] .colab-df-convert {\n",
              "      background-color: #3B4455;\n",
              "      fill: #D2E3FC;\n",
              "    }\n",
              "\n",
              "    [theme=dark] .colab-df-convert:hover {\n",
              "      background-color: #434B5C;\n",
              "      box-shadow: 0px 1px 3px 1px rgba(0, 0, 0, 0.15);\n",
              "      filter: drop-shadow(0px 1px 2px rgba(0, 0, 0, 0.3));\n",
              "      fill: #FFFFFF;\n",
              "    }\n",
              "  </style>\n",
              "\n",
              "    <script>\n",
              "      const buttonEl =\n",
              "        document.querySelector('#df-29982cdf-d508-48f5-b63f-7d7b9a4690a7 button.colab-df-convert');\n",
              "      buttonEl.style.display =\n",
              "        google.colab.kernel.accessAllowed ? 'block' : 'none';\n",
              "\n",
              "      async function convertToInteractive(key) {\n",
              "        const element = document.querySelector('#df-29982cdf-d508-48f5-b63f-7d7b9a4690a7');\n",
              "        const dataTable =\n",
              "          await google.colab.kernel.invokeFunction('convertToInteractive',\n",
              "                                                    [key], {});\n",
              "        if (!dataTable) return;\n",
              "\n",
              "        const docLinkHtml = 'Like what you see? Visit the ' +\n",
              "          '<a target=\"_blank\" href=https://colab.research.google.com/notebooks/data_table.ipynb>data table notebook</a>'\n",
              "          + ' to learn more about interactive tables.';\n",
              "        element.innerHTML = '';\n",
              "        dataTable['output_type'] = 'display_data';\n",
              "        await google.colab.output.renderOutput(dataTable, element);\n",
              "        const docLink = document.createElement('div');\n",
              "        docLink.innerHTML = docLinkHtml;\n",
              "        element.appendChild(docLink);\n",
              "      }\n",
              "    </script>\n",
              "  </div>\n",
              "\n",
              "\n",
              "    <div id=\"df-2545ee89-25b0-4660-887b-4595e162d439\">\n",
              "      <button class=\"colab-df-quickchart\" onclick=\"quickchart('df-2545ee89-25b0-4660-887b-4595e162d439')\"\n",
              "                title=\"Suggest charts\"\n",
              "                style=\"display:none;\">\n",
              "\n",
              "<svg xmlns=\"http://www.w3.org/2000/svg\" height=\"24px\"viewBox=\"0 0 24 24\"\n",
              "     width=\"24px\">\n",
              "    <g>\n",
              "        <path d=\"M19 3H5c-1.1 0-2 .9-2 2v14c0 1.1.9 2 2 2h14c1.1 0 2-.9 2-2V5c0-1.1-.9-2-2-2zM9 17H7v-7h2v7zm4 0h-2V7h2v10zm4 0h-2v-4h2v4z\"/>\n",
              "    </g>\n",
              "</svg>\n",
              "      </button>\n",
              "\n",
              "<style>\n",
              "  .colab-df-quickchart {\n",
              "      --bg-color: #E8F0FE;\n",
              "      --fill-color: #1967D2;\n",
              "      --hover-bg-color: #E2EBFA;\n",
              "      --hover-fill-color: #174EA6;\n",
              "      --disabled-fill-color: #AAA;\n",
              "      --disabled-bg-color: #DDD;\n",
              "  }\n",
              "\n",
              "  [theme=dark] .colab-df-quickchart {\n",
              "      --bg-color: #3B4455;\n",
              "      --fill-color: #D2E3FC;\n",
              "      --hover-bg-color: #434B5C;\n",
              "      --hover-fill-color: #FFFFFF;\n",
              "      --disabled-bg-color: #3B4455;\n",
              "      --disabled-fill-color: #666;\n",
              "  }\n",
              "\n",
              "  .colab-df-quickchart {\n",
              "    background-color: var(--bg-color);\n",
              "    border: none;\n",
              "    border-radius: 50%;\n",
              "    cursor: pointer;\n",
              "    display: none;\n",
              "    fill: var(--fill-color);\n",
              "    height: 32px;\n",
              "    padding: 0;\n",
              "    width: 32px;\n",
              "  }\n",
              "\n",
              "  .colab-df-quickchart:hover {\n",
              "    background-color: var(--hover-bg-color);\n",
              "    box-shadow: 0 1px 2px rgba(60, 64, 67, 0.3), 0 1px 3px 1px rgba(60, 64, 67, 0.15);\n",
              "    fill: var(--button-hover-fill-color);\n",
              "  }\n",
              "\n",
              "  .colab-df-quickchart-complete:disabled,\n",
              "  .colab-df-quickchart-complete:disabled:hover {\n",
              "    background-color: var(--disabled-bg-color);\n",
              "    fill: var(--disabled-fill-color);\n",
              "    box-shadow: none;\n",
              "  }\n",
              "\n",
              "  .colab-df-spinner {\n",
              "    border: 2px solid var(--fill-color);\n",
              "    border-color: transparent;\n",
              "    border-bottom-color: var(--fill-color);\n",
              "    animation:\n",
              "      spin 1s steps(1) infinite;\n",
              "  }\n",
              "\n",
              "  @keyframes spin {\n",
              "    0% {\n",
              "      border-color: transparent;\n",
              "      border-bottom-color: var(--fill-color);\n",
              "      border-left-color: var(--fill-color);\n",
              "    }\n",
              "    20% {\n",
              "      border-color: transparent;\n",
              "      border-left-color: var(--fill-color);\n",
              "      border-top-color: var(--fill-color);\n",
              "    }\n",
              "    30% {\n",
              "      border-color: transparent;\n",
              "      border-left-color: var(--fill-color);\n",
              "      border-top-color: var(--fill-color);\n",
              "      border-right-color: var(--fill-color);\n",
              "    }\n",
              "    40% {\n",
              "      border-color: transparent;\n",
              "      border-right-color: var(--fill-color);\n",
              "      border-top-color: var(--fill-color);\n",
              "    }\n",
              "    60% {\n",
              "      border-color: transparent;\n",
              "      border-right-color: var(--fill-color);\n",
              "    }\n",
              "    80% {\n",
              "      border-color: transparent;\n",
              "      border-right-color: var(--fill-color);\n",
              "      border-bottom-color: var(--fill-color);\n",
              "    }\n",
              "    90% {\n",
              "      border-color: transparent;\n",
              "      border-bottom-color: var(--fill-color);\n",
              "    }\n",
              "  }\n",
              "</style>\n",
              "\n",
              "      <script>\n",
              "        async function quickchart(key) {\n",
              "          const quickchartButtonEl =\n",
              "            document.querySelector('#' + key + ' button');\n",
              "          quickchartButtonEl.disabled = true;  // To prevent multiple clicks.\n",
              "          quickchartButtonEl.classList.add('colab-df-spinner');\n",
              "          try {\n",
              "            const charts = await google.colab.kernel.invokeFunction(\n",
              "                'suggestCharts', [key], {});\n",
              "          } catch (error) {\n",
              "            console.error('Error during call to suggestCharts:', error);\n",
              "          }\n",
              "          quickchartButtonEl.classList.remove('colab-df-spinner');\n",
              "          quickchartButtonEl.classList.add('colab-df-quickchart-complete');\n",
              "        }\n",
              "        (() => {\n",
              "          let quickchartButtonEl =\n",
              "            document.querySelector('#df-2545ee89-25b0-4660-887b-4595e162d439 button');\n",
              "          quickchartButtonEl.style.display =\n",
              "            google.colab.kernel.accessAllowed ? 'block' : 'none';\n",
              "        })();\n",
              "      </script>\n",
              "    </div>\n",
              "\n",
              "  <div id=\"id_142809f7-c5be-48e3-bc48-00b8b93302ac\">\n",
              "    <style>\n",
              "      .colab-df-generate {\n",
              "        background-color: #E8F0FE;\n",
              "        border: none;\n",
              "        border-radius: 50%;\n",
              "        cursor: pointer;\n",
              "        display: none;\n",
              "        fill: #1967D2;\n",
              "        height: 32px;\n",
              "        padding: 0 0 0 0;\n",
              "        width: 32px;\n",
              "      }\n",
              "\n",
              "      .colab-df-generate:hover {\n",
              "        background-color: #E2EBFA;\n",
              "        box-shadow: 0px 1px 2px rgba(60, 64, 67, 0.3), 0px 1px 3px 1px rgba(60, 64, 67, 0.15);\n",
              "        fill: #174EA6;\n",
              "      }\n",
              "\n",
              "      [theme=dark] .colab-df-generate {\n",
              "        background-color: #3B4455;\n",
              "        fill: #D2E3FC;\n",
              "      }\n",
              "\n",
              "      [theme=dark] .colab-df-generate:hover {\n",
              "        background-color: #434B5C;\n",
              "        box-shadow: 0px 1px 3px 1px rgba(0, 0, 0, 0.15);\n",
              "        filter: drop-shadow(0px 1px 2px rgba(0, 0, 0, 0.3));\n",
              "        fill: #FFFFFF;\n",
              "      }\n",
              "    </style>\n",
              "    <button class=\"colab-df-generate\" onclick=\"generateWithVariable('trip_df')\"\n",
              "            title=\"Generate code using this dataframe.\"\n",
              "            style=\"display:none;\">\n",
              "\n",
              "  <svg xmlns=\"http://www.w3.org/2000/svg\" height=\"24px\"viewBox=\"0 0 24 24\"\n",
              "       width=\"24px\">\n",
              "    <path d=\"M7,19H8.4L18.45,9,17,7.55,7,17.6ZM5,21V16.75L18.45,3.32a2,2,0,0,1,2.83,0l1.4,1.43a1.91,1.91,0,0,1,.58,1.4,1.91,1.91,0,0,1-.58,1.4L9.25,21ZM18.45,9,17,7.55Zm-12,3A5.31,5.31,0,0,0,4.9,8.1,5.31,5.31,0,0,0,1,6.5,5.31,5.31,0,0,0,4.9,4.9,5.31,5.31,0,0,0,6.5,1,5.31,5.31,0,0,0,8.1,4.9,5.31,5.31,0,0,0,12,6.5,5.46,5.46,0,0,0,6.5,12Z\"/>\n",
              "  </svg>\n",
              "    </button>\n",
              "    <script>\n",
              "      (() => {\n",
              "      const buttonEl =\n",
              "        document.querySelector('#id_142809f7-c5be-48e3-bc48-00b8b93302ac button.colab-df-generate');\n",
              "      buttonEl.style.display =\n",
              "        google.colab.kernel.accessAllowed ? 'block' : 'none';\n",
              "\n",
              "      buttonEl.onclick = () => {\n",
              "        google.colab.notebook.generateWithVariable('trip_df');\n",
              "      }\n",
              "      })();\n",
              "    </script>\n",
              "  </div>\n",
              "\n",
              "    </div>\n",
              "  </div>\n"
            ],
            "application/vnd.google.colaboratory.intrinsic+json": {
              "type": "dataframe",
              "variable_name": "trip_df"
            }
          },
          "metadata": {},
          "execution_count": 14
        }
      ]
    },
    {
      "cell_type": "code",
      "source": [
        "trip_df[[\"trip_duration_minutes\", \"trip_distance\", \"fare_amount\"]].describe()"
      ],
      "metadata": {
        "colab": {
          "base_uri": "https://localhost:8080/",
          "height": 300
        },
        "id": "qKQH5P-8lPc8",
        "outputId": "4f47ab92-cf63-4c8f-c02d-770477d65fa4"
      },
      "execution_count": 15,
      "outputs": [
        {
          "output_type": "execute_result",
          "data": {
            "text/plain": [
              "       trip_duration_minutes  trip_distance    fare_amount\n",
              "count          191053.000000  191053.000000  191053.000000\n",
              "mean               17.630741       2.920312      12.791720\n",
              "std                67.915319       3.685020      10.548982\n",
              "min                 1.000000       0.010000       0.010000\n",
              "25%                 7.000000       0.990000       6.500000\n",
              "50%                11.000000       1.610000       9.500000\n",
              "75%                18.000000       3.000000      14.500000\n",
              "max              1440.000000      47.350000     150.000000"
            ],
            "text/html": [
              "\n",
              "  <div id=\"df-d6adead7-ff66-44fc-8c35-bef20917a4ea\" class=\"colab-df-container\">\n",
              "    <div>\n",
              "<style scoped>\n",
              "    .dataframe tbody tr th:only-of-type {\n",
              "        vertical-align: middle;\n",
              "    }\n",
              "\n",
              "    .dataframe tbody tr th {\n",
              "        vertical-align: top;\n",
              "    }\n",
              "\n",
              "    .dataframe thead th {\n",
              "        text-align: right;\n",
              "    }\n",
              "</style>\n",
              "<table border=\"1\" class=\"dataframe\">\n",
              "  <thead>\n",
              "    <tr style=\"text-align: right;\">\n",
              "      <th></th>\n",
              "      <th>trip_duration_minutes</th>\n",
              "      <th>trip_distance</th>\n",
              "      <th>fare_amount</th>\n",
              "    </tr>\n",
              "  </thead>\n",
              "  <tbody>\n",
              "    <tr>\n",
              "      <th>count</th>\n",
              "      <td>191053.000000</td>\n",
              "      <td>191053.000000</td>\n",
              "      <td>191053.000000</td>\n",
              "    </tr>\n",
              "    <tr>\n",
              "      <th>mean</th>\n",
              "      <td>17.630741</td>\n",
              "      <td>2.920312</td>\n",
              "      <td>12.791720</td>\n",
              "    </tr>\n",
              "    <tr>\n",
              "      <th>std</th>\n",
              "      <td>67.915319</td>\n",
              "      <td>3.685020</td>\n",
              "      <td>10.548982</td>\n",
              "    </tr>\n",
              "    <tr>\n",
              "      <th>min</th>\n",
              "      <td>1.000000</td>\n",
              "      <td>0.010000</td>\n",
              "      <td>0.010000</td>\n",
              "    </tr>\n",
              "    <tr>\n",
              "      <th>25%</th>\n",
              "      <td>7.000000</td>\n",
              "      <td>0.990000</td>\n",
              "      <td>6.500000</td>\n",
              "    </tr>\n",
              "    <tr>\n",
              "      <th>50%</th>\n",
              "      <td>11.000000</td>\n",
              "      <td>1.610000</td>\n",
              "      <td>9.500000</td>\n",
              "    </tr>\n",
              "    <tr>\n",
              "      <th>75%</th>\n",
              "      <td>18.000000</td>\n",
              "      <td>3.000000</td>\n",
              "      <td>14.500000</td>\n",
              "    </tr>\n",
              "    <tr>\n",
              "      <th>max</th>\n",
              "      <td>1440.000000</td>\n",
              "      <td>47.350000</td>\n",
              "      <td>150.000000</td>\n",
              "    </tr>\n",
              "  </tbody>\n",
              "</table>\n",
              "</div>\n",
              "    <div class=\"colab-df-buttons\">\n",
              "\n",
              "  <div class=\"colab-df-container\">\n",
              "    <button class=\"colab-df-convert\" onclick=\"convertToInteractive('df-d6adead7-ff66-44fc-8c35-bef20917a4ea')\"\n",
              "            title=\"Convert this dataframe to an interactive table.\"\n",
              "            style=\"display:none;\">\n",
              "\n",
              "  <svg xmlns=\"http://www.w3.org/2000/svg\" height=\"24px\" viewBox=\"0 -960 960 960\">\n",
              "    <path d=\"M120-120v-720h720v720H120Zm60-500h600v-160H180v160Zm220 220h160v-160H400v160Zm0 220h160v-160H400v160ZM180-400h160v-160H180v160Zm440 0h160v-160H620v160ZM180-180h160v-160H180v160Zm440 0h160v-160H620v160Z\"/>\n",
              "  </svg>\n",
              "    </button>\n",
              "\n",
              "  <style>\n",
              "    .colab-df-container {\n",
              "      display:flex;\n",
              "      gap: 12px;\n",
              "    }\n",
              "\n",
              "    .colab-df-convert {\n",
              "      background-color: #E8F0FE;\n",
              "      border: none;\n",
              "      border-radius: 50%;\n",
              "      cursor: pointer;\n",
              "      display: none;\n",
              "      fill: #1967D2;\n",
              "      height: 32px;\n",
              "      padding: 0 0 0 0;\n",
              "      width: 32px;\n",
              "    }\n",
              "\n",
              "    .colab-df-convert:hover {\n",
              "      background-color: #E2EBFA;\n",
              "      box-shadow: 0px 1px 2px rgba(60, 64, 67, 0.3), 0px 1px 3px 1px rgba(60, 64, 67, 0.15);\n",
              "      fill: #174EA6;\n",
              "    }\n",
              "\n",
              "    .colab-df-buttons div {\n",
              "      margin-bottom: 4px;\n",
              "    }\n",
              "\n",
              "    [theme=dark] .colab-df-convert {\n",
              "      background-color: #3B4455;\n",
              "      fill: #D2E3FC;\n",
              "    }\n",
              "\n",
              "    [theme=dark] .colab-df-convert:hover {\n",
              "      background-color: #434B5C;\n",
              "      box-shadow: 0px 1px 3px 1px rgba(0, 0, 0, 0.15);\n",
              "      filter: drop-shadow(0px 1px 2px rgba(0, 0, 0, 0.3));\n",
              "      fill: #FFFFFF;\n",
              "    }\n",
              "  </style>\n",
              "\n",
              "    <script>\n",
              "      const buttonEl =\n",
              "        document.querySelector('#df-d6adead7-ff66-44fc-8c35-bef20917a4ea button.colab-df-convert');\n",
              "      buttonEl.style.display =\n",
              "        google.colab.kernel.accessAllowed ? 'block' : 'none';\n",
              "\n",
              "      async function convertToInteractive(key) {\n",
              "        const element = document.querySelector('#df-d6adead7-ff66-44fc-8c35-bef20917a4ea');\n",
              "        const dataTable =\n",
              "          await google.colab.kernel.invokeFunction('convertToInteractive',\n",
              "                                                    [key], {});\n",
              "        if (!dataTable) return;\n",
              "\n",
              "        const docLinkHtml = 'Like what you see? Visit the ' +\n",
              "          '<a target=\"_blank\" href=https://colab.research.google.com/notebooks/data_table.ipynb>data table notebook</a>'\n",
              "          + ' to learn more about interactive tables.';\n",
              "        element.innerHTML = '';\n",
              "        dataTable['output_type'] = 'display_data';\n",
              "        await google.colab.output.renderOutput(dataTable, element);\n",
              "        const docLink = document.createElement('div');\n",
              "        docLink.innerHTML = docLinkHtml;\n",
              "        element.appendChild(docLink);\n",
              "      }\n",
              "    </script>\n",
              "  </div>\n",
              "\n",
              "\n",
              "    <div id=\"df-f2b923df-7b0d-44f6-9594-dcd060711cf0\">\n",
              "      <button class=\"colab-df-quickchart\" onclick=\"quickchart('df-f2b923df-7b0d-44f6-9594-dcd060711cf0')\"\n",
              "                title=\"Suggest charts\"\n",
              "                style=\"display:none;\">\n",
              "\n",
              "<svg xmlns=\"http://www.w3.org/2000/svg\" height=\"24px\"viewBox=\"0 0 24 24\"\n",
              "     width=\"24px\">\n",
              "    <g>\n",
              "        <path d=\"M19 3H5c-1.1 0-2 .9-2 2v14c0 1.1.9 2 2 2h14c1.1 0 2-.9 2-2V5c0-1.1-.9-2-2-2zM9 17H7v-7h2v7zm4 0h-2V7h2v10zm4 0h-2v-4h2v4z\"/>\n",
              "    </g>\n",
              "</svg>\n",
              "      </button>\n",
              "\n",
              "<style>\n",
              "  .colab-df-quickchart {\n",
              "      --bg-color: #E8F0FE;\n",
              "      --fill-color: #1967D2;\n",
              "      --hover-bg-color: #E2EBFA;\n",
              "      --hover-fill-color: #174EA6;\n",
              "      --disabled-fill-color: #AAA;\n",
              "      --disabled-bg-color: #DDD;\n",
              "  }\n",
              "\n",
              "  [theme=dark] .colab-df-quickchart {\n",
              "      --bg-color: #3B4455;\n",
              "      --fill-color: #D2E3FC;\n",
              "      --hover-bg-color: #434B5C;\n",
              "      --hover-fill-color: #FFFFFF;\n",
              "      --disabled-bg-color: #3B4455;\n",
              "      --disabled-fill-color: #666;\n",
              "  }\n",
              "\n",
              "  .colab-df-quickchart {\n",
              "    background-color: var(--bg-color);\n",
              "    border: none;\n",
              "    border-radius: 50%;\n",
              "    cursor: pointer;\n",
              "    display: none;\n",
              "    fill: var(--fill-color);\n",
              "    height: 32px;\n",
              "    padding: 0;\n",
              "    width: 32px;\n",
              "  }\n",
              "\n",
              "  .colab-df-quickchart:hover {\n",
              "    background-color: var(--hover-bg-color);\n",
              "    box-shadow: 0 1px 2px rgba(60, 64, 67, 0.3), 0 1px 3px 1px rgba(60, 64, 67, 0.15);\n",
              "    fill: var(--button-hover-fill-color);\n",
              "  }\n",
              "\n",
              "  .colab-df-quickchart-complete:disabled,\n",
              "  .colab-df-quickchart-complete:disabled:hover {\n",
              "    background-color: var(--disabled-bg-color);\n",
              "    fill: var(--disabled-fill-color);\n",
              "    box-shadow: none;\n",
              "  }\n",
              "\n",
              "  .colab-df-spinner {\n",
              "    border: 2px solid var(--fill-color);\n",
              "    border-color: transparent;\n",
              "    border-bottom-color: var(--fill-color);\n",
              "    animation:\n",
              "      spin 1s steps(1) infinite;\n",
              "  }\n",
              "\n",
              "  @keyframes spin {\n",
              "    0% {\n",
              "      border-color: transparent;\n",
              "      border-bottom-color: var(--fill-color);\n",
              "      border-left-color: var(--fill-color);\n",
              "    }\n",
              "    20% {\n",
              "      border-color: transparent;\n",
              "      border-left-color: var(--fill-color);\n",
              "      border-top-color: var(--fill-color);\n",
              "    }\n",
              "    30% {\n",
              "      border-color: transparent;\n",
              "      border-left-color: var(--fill-color);\n",
              "      border-top-color: var(--fill-color);\n",
              "      border-right-color: var(--fill-color);\n",
              "    }\n",
              "    40% {\n",
              "      border-color: transparent;\n",
              "      border-right-color: var(--fill-color);\n",
              "      border-top-color: var(--fill-color);\n",
              "    }\n",
              "    60% {\n",
              "      border-color: transparent;\n",
              "      border-right-color: var(--fill-color);\n",
              "    }\n",
              "    80% {\n",
              "      border-color: transparent;\n",
              "      border-right-color: var(--fill-color);\n",
              "      border-bottom-color: var(--fill-color);\n",
              "    }\n",
              "    90% {\n",
              "      border-color: transparent;\n",
              "      border-bottom-color: var(--fill-color);\n",
              "    }\n",
              "  }\n",
              "</style>\n",
              "\n",
              "      <script>\n",
              "        async function quickchart(key) {\n",
              "          const quickchartButtonEl =\n",
              "            document.querySelector('#' + key + ' button');\n",
              "          quickchartButtonEl.disabled = true;  // To prevent multiple clicks.\n",
              "          quickchartButtonEl.classList.add('colab-df-spinner');\n",
              "          try {\n",
              "            const charts = await google.colab.kernel.invokeFunction(\n",
              "                'suggestCharts', [key], {});\n",
              "          } catch (error) {\n",
              "            console.error('Error during call to suggestCharts:', error);\n",
              "          }\n",
              "          quickchartButtonEl.classList.remove('colab-df-spinner');\n",
              "          quickchartButtonEl.classList.add('colab-df-quickchart-complete');\n",
              "        }\n",
              "        (() => {\n",
              "          let quickchartButtonEl =\n",
              "            document.querySelector('#df-f2b923df-7b0d-44f6-9594-dcd060711cf0 button');\n",
              "          quickchartButtonEl.style.display =\n",
              "            google.colab.kernel.accessAllowed ? 'block' : 'none';\n",
              "        })();\n",
              "      </script>\n",
              "    </div>\n",
              "\n",
              "    </div>\n",
              "  </div>\n"
            ],
            "application/vnd.google.colaboratory.intrinsic+json": {
              "type": "dataframe",
              "summary": "{\n  \"name\": \"trip_df[[\\\"trip_duration_minutes\\\", \\\"trip_distance\\\", \\\"fare_amount\\\"]]\",\n  \"rows\": 8,\n  \"fields\": [\n    {\n      \"column\": \"trip_duration_minutes\",\n      \"properties\": {\n        \"dtype\": \"number\",\n        \"std\": 67470.3471950057,\n        \"min\": 1.0,\n        \"max\": 191053.0,\n        \"num_unique_values\": 8,\n        \"samples\": [\n          17.630741207937064,\n          11.0,\n          191053.0\n        ],\n        \"semantic_type\": \"\",\n        \"description\": \"\"\n      }\n    },\n    {\n      \"column\": \"trip_distance\",\n      \"properties\": {\n        \"dtype\": \"number\",\n        \"std\": 67544.42930106119,\n        \"min\": 0.01,\n        \"max\": 191053.0,\n        \"num_unique_values\": 8,\n        \"samples\": [\n          2.9203120076627953,\n          1.61,\n          191053.0\n        ],\n        \"semantic_type\": \"\",\n        \"description\": \"\"\n      }\n    },\n    {\n      \"column\": \"fare_amount\",\n      \"properties\": {\n        \"dtype\": \"number\",\n        \"std\": 67537.1580889019,\n        \"min\": 0.01,\n        \"max\": 191053.0,\n        \"num_unique_values\": 8,\n        \"samples\": [\n          12.791720203294371,\n          9.5,\n          191053.0\n        ],\n        \"semantic_type\": \"\",\n        \"description\": \"\"\n      }\n    }\n  ]\n}"
            }
          },
          "metadata": {},
          "execution_count": 15
        }
      ]
    },
    {
      "cell_type": "code",
      "source": [
        "import matplotlib.pyplot as plt\n",
        "\n",
        "# Define columns to plot\n",
        "columns = [\"trip_duration_minutes\", \"trip_distance\", \"fare_amount\"]\n",
        "\n",
        "# Set up box plots\n",
        "fig, axs = plt.subplots(1, 4, figsize=(18, 6))\n",
        "\n",
        "for i, col in enumerate(columns):\n",
        "    axs[i].boxplot(trip_df[col], vert=True, patch_artist=True, boxprops=dict(facecolor='lightblue'))\n",
        "    axs[i].set_title(f\"Boxplot of {col}\")\n",
        "    axs[i].set_ylabel(col)\n",
        "\n",
        "plt.tight_layout()\n",
        "plt.show()"
      ],
      "metadata": {
        "colab": {
          "base_uri": "https://localhost:8080/",
          "height": 346
        },
        "id": "eyNV0R4Al8sF",
        "outputId": "dee7fc86-14d4-45a0-b4b2-c472fa641454"
      },
      "execution_count": 16,
      "outputs": [
        {
          "output_type": "display_data",
          "data": {
            "text/plain": [
              "<Figure size 1800x600 with 4 Axes>"
            ],
            "image/png": "[encoded data removed]"
          },
          "metadata": {}
        }
      ]
    },
    {
      "cell_type": "markdown",
      "source": [
        "# **OUTLIERS GO BRRRRRRRR 🔥🔥🔥**"
      ],
      "metadata": {
        "id": "eIQcf-3fmm2z"
      }
    },
    {
      "cell_type": "code",
      "source": [
        "# For trip_df\n",
        "print(\"trip_df numeric columns:\")\n",
        "print(trip_df.select_dtypes(include='number').columns.tolist())\n",
        "\n",
        "# For zone_df\n",
        "print(\"zone_df numeric columns:\")\n",
        "print(zone_df.select_dtypes(include='number').columns.tolist())"
      ],
      "metadata": {
        "colab": {
          "base_uri": "https://localhost:8080/"
        },
        "id": "0-b-AS2PnGRg",
        "outputId": "163d1e88-face-4a7c-fa5d-fb0515678f0d"
      },
      "execution_count": 17,
      "outputs": [
        {
          "output_type": "stream",
          "name": "stdout",
          "text": [
            "trip_df numeric columns:\n",
            "['vendor_id', 'passenger_count', 'trip_distance', 'rate_code', 'payment_type', 'fare_amount', 'extra', 'mta_tax', 'tip_amount', 'tolls_amount', 'imp_surcharge', 'pickup_location_id', 'dropoff_location_id', 'trip_duration_minutes', 'total_trip_cost']\n",
            "zone_df numeric columns:\n",
            "['zone_id']\n"
          ]
        }
      ]
    },
    {
      "cell_type": "code",
      "source": [
        "iqr_columns = [\n",
        "    \"trip_duration_minutes\",\n",
        "    \"trip_distance\",\n",
        "    \"fare_amount\",\n",
        "    \"tip_amount\",\n",
        "    \"tolls_amount\",\n",
        "    \"total_trip_cost\"\n",
        "]"
      ],
      "metadata": {
        "id": "9BwjW1yBnslC"
      },
      "execution_count": 18,
      "outputs": []
    },
    {
      "cell_type": "code",
      "source": [
        "def remove_iqr_outliers_all(df, columns):\n",
        "    for col in columns:\n",
        "        Q1 = df[col].quantile(0.25)\n",
        "        Q3 = df[col].quantile(0.75)\n",
        "        IQR = Q3 - Q1\n",
        "        lower = Q1 - 1.5 * IQR\n",
        "        upper = Q3 + 1.5 * IQR\n",
        "        df = df[(df[col] >= lower) & (df[col] <= upper)]\n",
        "    return df\n",
        "\n",
        "# Apply to selected real-valued features\n",
        "trip_df_cleaned = remove_iqr_outliers_all(trip_df, iqr_columns)\n",
        "print(\"Remaining rows after full-feature IQR cleaning:\", trip_df_cleaned.shape[0])"
      ],
      "metadata": {
        "colab": {
          "base_uri": "https://localhost:8080/"
        },
        "id": "KhEx7_FHnuvd",
        "outputId": "a0a6a460-6e94-4f02-a96e-eca23806c7d9"
      },
      "execution_count": 19,
      "outputs": [
        {
          "output_type": "stream",
          "name": "stdout",
          "text": [
            "Remaining rows after full-feature IQR cleaning: 158688\n"
          ]
        }
      ]
    },
    {
      "cell_type": "code",
      "source": [],
      "metadata": {
        "id": "4_gKQndquHzB"
      },
      "execution_count": 19,
      "outputs": []
    },
    {
      "cell_type": "markdown",
      "source": [
        "# **2. Analytical Queries**"
      ],
      "metadata": {
        "id": "k4uEuguxS_la"
      }
    },
    {
      "cell_type": "code",
      "source": [
        "from pyspark.sql.functions import hour, when, col, count, row_number\n",
        "from pyspark.sql.window import Window"
      ],
      "metadata": {
        "id": "gXOFW4xWi3mK"
      },
      "execution_count": 20,
      "outputs": []
    },
    {
      "cell_type": "code",
      "source": [
        "# Start Spark session\n",
        "from pyspark.sql import SparkSession\n",
        "\n",
        "spark = SparkSession.builder \\\n",
        "    .appName(\"BDNS A3\") \\\n",
        "    .getOrCreate()"
      ],
      "metadata": {
        "id": "tNf2Mb50hc4l"
      },
      "execution_count": 21,
      "outputs": []
    },
    {
      "cell_type": "code",
      "source": [
        "# Convert trip_df to Spark DataFrame\n",
        "\n",
        "trip_sdf = spark.createDataFrame(trip_df)"
      ],
      "metadata": {
        "id": "K2BAgkmHhjCR"
      },
      "execution_count": 22,
      "outputs": []
    },
    {
      "cell_type": "code",
      "source": [
        "# a) What is the most common payment type used per time of day (morning, afternoon, evening)?\n",
        "\n",
        "# Add pickup_hour and time_of_day\n",
        "trip_sdf = trip_sdf.withColumn(\"pickup_hour\", hour(\"pickup_datetime\"))\n",
        "trip_sdf = trip_sdf.withColumn(\n",
        "    \"time_of_day\",\n",
        "    when((col(\"pickup_hour\") >= 5) & (col(\"pickup_hour\") <= 11), \"Morning\")\n",
        "    .when((col(\"pickup_hour\") >= 12) & (col(\"pickup_hour\") <= 16), \"Afternoon\")\n",
        "    .when((col(\"pickup_hour\") >= 17) & (col(\"pickup_hour\") <= 21), \"Evening\")\n",
        "    .otherwise(\"Night\")\n",
        ")\n",
        "\n",
        "# Count number of trips by time_of_day and payment_type\n",
        "payment_counts = trip_sdf.groupBy(\"time_of_day\", \"payment_type\") \\\n",
        "                         .agg(count(\"*\").alias(\"trip_count\"))\n",
        "\n",
        "# Extract the most frequent payment type per time_of_day\n",
        "window_spec = Window.partitionBy(\"time_of_day\").orderBy(col(\"trip_count\").desc())\n",
        "most_common_payment = payment_counts.withColumn(\"rank\", row_number().over(window_spec)) \\\n",
        "                                    .filter(col(\"rank\") == 1) \\\n",
        "                                    .select(\"time_of_day\", \"payment_type\", \"trip_count\")\n",
        "\n",
        "most_common_payment.show()"
      ],
      "metadata": {
        "id": "s2uS_-2bcNLN",
        "colab": {
          "base_uri": "https://localhost:8080/"
        },
        "outputId": "192344b7-d8a0-4eb4-cfd0-cd8e646c8de7"
      },
      "execution_count": 23,
      "outputs": [
        {
          "output_type": "stream",
          "name": "stdout",
          "text": [
            "+-----------+------------+----------+\n",
            "|time_of_day|payment_type|trip_count|\n",
            "+-----------+------------+----------+\n",
            "|  Afternoon|           1|     33122|\n",
            "|    Evening|           1|     40466|\n",
            "|    Morning|           1|     34605|\n",
            "|      Night|           1|     24746|\n",
            "+-----------+------------+----------+\n",
            "\n"
          ]
        }
      ]
    },
    {
      "cell_type": "code",
      "source": [
        "# b) Which boroughs generate the highest total revenue based on pickup locations,\n",
        "# and how do they compare in terms of trip volume?\n",
        "\n",
        "from pyspark.sql.functions import sum as _sum\n",
        "\n",
        "# Group by pickup borough, compute total revenue and trip count\n",
        "borough_stats = trip_sdf.groupBy(\"pickup_borough\") \\\n",
        "    .agg(\n",
        "        _sum(\"total_trip_cost\").alias(\"total_revenue\"),\n",
        "        count(\"*\").alias(\"trip_count\")\n",
        "    ) \\\n",
        "    .orderBy(col(\"total_revenue\").desc())\n",
        "\n",
        "borough_stats.show()"
      ],
      "metadata": {
        "colab": {
          "base_uri": "https://localhost:8080/"
        },
        "id": "tErnAuG8jVZO",
        "outputId": "7e29ef7c-a4e2-4611-d0bc-0205a8f8b2f0"
      },
      "execution_count": 24,
      "outputs": [
        {
          "output_type": "stream",
          "name": "stdout",
          "text": [
            "+--------------+------------------+----------+\n",
            "|pickup_borough|     total_revenue|trip_count|\n",
            "+--------------+------------------+----------+\n",
            "|     Manhattan|2498474.1400021147|    176450|\n",
            "|        Queens| 529155.1699999792|     11995|\n",
            "|      Brooklyn| 43448.69999999947|      2409|\n",
            "|         Bronx| 5133.759999999999|       197|\n",
            "| Staten Island|             25.82|         1|\n",
            "|           EWR|              14.3|         1|\n",
            "+--------------+------------------+----------+\n",
            "\n"
          ]
        }
      ]
    },
    {
      "cell_type": "code",
      "source": [
        "# c) What is the average tip amount per passenger count?\n",
        "\n",
        "from pyspark.sql.functions import avg\n",
        "\n",
        "# Group by passenger count and compute average tip\n",
        "avg_tip_by_passenger = trip_sdf.groupBy(\"passenger_count\") \\\n",
        "    .agg(avg(\"tip_amount\").alias(\"avg_tip_amount\")) \\\n",
        "    .orderBy(\"passenger_count\")\n",
        "\n",
        "avg_tip_by_passenger.show()"
      ],
      "metadata": {
        "colab": {
          "base_uri": "https://localhost:8080/"
        },
        "id": "UOyBG_WkkpQZ",
        "outputId": "16c70d96-80ae-477c-87b3-e57b7f5fb414"
      },
      "execution_count": 25,
      "outputs": [
        {
          "output_type": "stream",
          "name": "stdout",
          "text": [
            "+---------------+------------------+\n",
            "|passenger_count|    avg_tip_amount|\n",
            "+---------------+------------------+\n",
            "|              1|1.8510339893710785|\n",
            "|              2|1.8483348649795004|\n",
            "|              3|1.8192172162094145|\n",
            "|              4|1.7345831188883194|\n",
            "|              5|1.8644476277790523|\n",
            "|              6|1.8867273424027589|\n",
            "+---------------+------------------+\n",
            "\n"
          ]
        }
      ]
    },
    {
      "cell_type": "code",
      "source": [
        "# d) What are the best 5 locations for drivers to pick up passengers from and at which time of the day?\n",
        "\n",
        "from pyspark.sql.functions import row_number\n",
        "from pyspark.sql.window import Window\n",
        "\n",
        "# Count number of pickups per zone per time of day\n",
        "pickup_counts = trip_sdf.groupBy(\"pickup_zone\", \"time_of_day\") \\\n",
        "                        .agg(count(\"*\").alias(\"trip_count\"))\n",
        "\n",
        "# Rank pickups by trip count within each time_of_day\n",
        "window_spec = Window.partitionBy(\"time_of_day\").orderBy(col(\"trip_count\").desc())\n",
        "top_pickups = pickup_counts.withColumn(\"rank\", row_number().over(window_spec)) \\\n",
        "                           .filter(col(\"rank\") <= 5) \\\n",
        "                           .orderBy(\"time_of_day\", \"rank\")\n",
        "\n",
        "top_pickups.select(\"time_of_day\", \"pickup_zone\", \"trip_count\").show(20, truncate=False)"
      ],
      "metadata": {
        "colab": {
          "base_uri": "https://localhost:8080/"
        },
        "id": "YPneeJ93mX87",
        "outputId": "aeaf00aa-e873-4962-e70f-60a40dfc64de"
      },
      "execution_count": 26,
      "outputs": [
        {
          "output_type": "stream",
          "name": "stdout",
          "text": [
            "+-----------+----------------------------+----------+\n",
            "|time_of_day|pickup_zone                 |trip_count|\n",
            "+-----------+----------------------------+----------+\n",
            "|Afternoon  |Upper East Side South       |2633      |\n",
            "|Afternoon  |Upper East Side North       |2518      |\n",
            "|Afternoon  |Midtown Center              |2235      |\n",
            "|Afternoon  |Midtown East                |1777      |\n",
            "|Afternoon  |Union Sq                    |1692      |\n",
            "|Evening    |Midtown East                |2460      |\n",
            "|Evening    |Midtown Center              |2450      |\n",
            "|Evening    |Upper East Side South       |2423      |\n",
            "|Evening    |Times Sq/Theatre District   |2088      |\n",
            "|Evening    |Union Sq                    |2087      |\n",
            "|Morning    |Upper East Side North       |2445      |\n",
            "|Morning    |Upper East Side South       |2204      |\n",
            "|Morning    |Penn Station/Madison Sq West|2166      |\n",
            "|Morning    |Murray Hill                 |1801      |\n",
            "|Morning    |Clinton East                |1723      |\n",
            "|Night      |East Village                |2128      |\n",
            "|Night      |Times Sq/Theatre District   |1648      |\n",
            "|Night      |Clinton East                |1561      |\n",
            "|Night      |Lower East Side             |1445      |\n",
            "|Night      |West Village                |1313      |\n",
            "+-----------+----------------------------+----------+\n",
            "\n"
          ]
        }
      ]
    },
    {
      "cell_type": "code",
      "source": [
        "# e) What are the top 5 longest trips recorded in the dataset and display their corresponding trip\n",
        "# duration, fare, pickup and dropoff zones, and payment type. Comment on whether these trips also\n",
        "# resulted in high fares or if any anomalies are observed.\n",
        "\n",
        "# Select and sort by longest duration\n",
        "longest_trips = trip_sdf.select(\n",
        "    \"trip_duration_minutes\",\n",
        "    \"fare_amount\",\n",
        "    \"pickup_zone\",\n",
        "    \"dropoff_zone\",\n",
        "    \"payment_type\"\n",
        ").orderBy(col(\"trip_duration_minutes\").desc()).limit(5)\n",
        "\n",
        "longest_trips.show(truncate=False)"
      ],
      "metadata": {
        "colab": {
          "base_uri": "https://localhost:8080/"
        },
        "id": "iUb96A-0mh6v",
        "outputId": "087c66f4-470c-4e05-b6ef-325a95ac3bf0"
      },
      "execution_count": 27,
      "outputs": [
        {
          "output_type": "stream",
          "name": "stdout",
          "text": [
            "+---------------------+-----------+---------------------+---------------------+------------+\n",
            "|trip_duration_minutes|fare_amount|pickup_zone          |dropoff_zone         |payment_type|\n",
            "+---------------------+-----------+---------------------+---------------------+------------+\n",
            "|1440.0               |15.5       |Upper East Side North|Gramercy             |1           |\n",
            "|1440.0               |6.5        |Yorkville West       |Upper West Side South|2           |\n",
            "|1440.0               |7.0        |Lenox Hill East      |Upper East Side North|1           |\n",
            "|1440.0               |12.0       |Gramercy             |Lower East Side      |1           |\n",
            "|1440.0               |52.0       |JFK Airport          |Upper East Side North|2           |\n",
            "+---------------------+-----------+---------------------+---------------------+------------+\n",
            "\n"
          ]
        }
      ]
    },
    {
      "cell_type": "markdown",
      "source": [
        "All five longest trips have an exact duration of 1440 minutes (24 hours). While the zones and fares vary, the fixed max duration suggests a system constraint or timestamp issue.\n",
        "Several trips occurred within small local zones (e.g., Lenox Hill to Lenox Hill), yet report a 24-hour duration with very low fares, which is logically inconsistent.\n",
        "These likely represent data edge cases, not actual long trips, though they passed validation during earlier cleaning."
      ],
      "metadata": {
        "id": "qKYp_bFPnBgb"
      }
    },
    {
      "cell_type": "code",
      "source": [
        "# f) Which pickup and drop-off borough combinations represent the most frequent inter-borough travel\n",
        "# flows? Present the top routes by trip count, and optionally include revenue per route.\n",
        "\n",
        "# Filter inter-borough trips only\n",
        "inter_borough = trip_sdf.filter(col(\"pickup_borough\") != col(\"dropoff_borough\"))\n",
        "\n",
        "# Group by pickup → dropoff borough and count trips and revenue\n",
        "route_stats = inter_borough.groupBy(\"pickup_borough\", \"dropoff_borough\") \\\n",
        "    .agg(\n",
        "        count(\"*\").alias(\"trip_count\"),\n",
        "        _sum(\"total_trip_cost\").alias(\"total_revenue\")\n",
        "    ) \\\n",
        "    .orderBy(col(\"trip_count\").desc())\n",
        "\n",
        "route_stats.show(truncate=False)"
      ],
      "metadata": {
        "colab": {
          "base_uri": "https://localhost:8080/"
        },
        "id": "695kAARXo20C",
        "outputId": "ea12c4b2-a33c-441d-ddd5-44d18c75bf89"
      },
      "execution_count": 28,
      "outputs": [
        {
          "output_type": "stream",
          "name": "stdout",
          "text": [
            "+--------------+---------------+----------+------------------+\n",
            "|pickup_borough|dropoff_borough|trip_count|total_revenue     |\n",
            "+--------------+---------------+----------+------------------+\n",
            "|Queens        |Manhattan      |7153      |372767.7599999956 |\n",
            "|Manhattan     |Queens         |6032      |255623.86000000156|\n",
            "|Manhattan     |Brooklyn       |5121      |144888.41000000277|\n",
            "|Queens        |Brooklyn       |1711      |79548.90000000008 |\n",
            "|Manhattan     |Bronx          |903       |29045.80999999985 |\n",
            "|Brooklyn      |Manhattan      |721       |17978.900000000016|\n",
            "|Manhattan     |EWR            |350       |33865.49999999997 |\n",
            "|Queens        |Bronx          |189       |10469.610000000008|\n",
            "|Brooklyn      |Queens         |146       |4859.56           |\n",
            "|Bronx         |Manhattan      |81        |2140.199999999999 |\n",
            "|Manhattan     |Staten Island  |23        |1855.62           |\n",
            "|Brooklyn      |Bronx          |17        |1069.76           |\n",
            "|Bronx         |Brooklyn       |13        |888.09            |\n",
            "|Queens        |Staten Island  |13        |1130.1            |\n",
            "|Bronx         |Queens         |7         |440.65            |\n",
            "|Brooklyn      |Staten Island  |7         |365.63            |\n",
            "|Queens        |EWR            |6         |836.96            |\n",
            "|Bronx         |EWR            |1         |110.8             |\n",
            "|EWR           |Manhattan      |1         |14.3              |\n",
            "+--------------+---------------+----------+------------------+\n",
            "\n"
          ]
        }
      ]
    },
    {
      "cell_type": "markdown",
      "source": [
        "# **3. SparkML Task: Trip Profiling: Predict Likelihood of High Tipping**"
      ],
      "metadata": {
        "id": "Wj3QLcPmcFLJ"
      }
    },
    {
      "cell_type": "code",
      "source": [
        "# Tamer"
      ],
      "metadata": {
        "id": "utGBOy-fcNhy"
      },
      "execution_count": 29,
      "outputs": []
    },
    {
      "cell_type": "code",
      "source": [
        "# Yehia"
      ],
      "metadata": {
        "id": "dI2J24t0Vooi"
      },
      "execution_count": 30,
      "outputs": []
    },
    {
      "cell_type": "markdown",
      "source": [
        "Imports & Spark session"
      ],
      "metadata": {
        "id": "HptA23fly1jY"
      }
    },
    {
      "cell_type": "code",
      "source": [
        "# Ahmed\n",
        "from pyspark.sql import SparkSession, functions as F\n",
        "from pyspark.ml.feature import VectorAssembler\n",
        "from pyspark.ml.classification import LogisticRegression, DecisionTreeClassifier, RandomForestClassifier\n",
        "from pyspark.ml.evaluation import MulticlassClassificationEvaluator, BinaryClassificationEvaluator\n",
        "from pyspark.ml import Pipeline\n",
        "spark = SparkSession.builder.appName(\"HighTipPrediction\").getOrCreate()"
      ],
      "metadata": {
        "id": "tJFfLWT-Vp4Z"
      },
      "execution_count": 31,
      "outputs": []
    },
    {
      "cell_type": "markdown",
      "source": [
        "Load cleaned DataFrame"
      ],
      "metadata": {
        "id": "n1NGPnT3yyEf"
      }
    },
    {
      "cell_type": "code",
      "source": [
        "sdf = spark.createDataFrame(trip_df)\n"
      ],
      "metadata": {
        "id": "eTKoj2JUyj6l"
      },
      "execution_count": 32,
      "outputs": []
    },
    {
      "cell_type": "markdown",
      "source": [
        "the binary label"
      ],
      "metadata": {
        "id": "QWZhrmIby6oU"
      }
    },
    {
      "cell_type": "code",
      "source": [
        "sdf = sdf.withColumn(\n",
        "    \"high_tip\",\n",
        "    F.when(F.col(\"tip_amount\") > 0.15 * F.col(\"fare_amount\"), 1).otherwise(0)\n",
        ")\n"
      ],
      "metadata": {
        "id": "7H0nfdIqy-st"
      },
      "execution_count": 33,
      "outputs": []
    },
    {
      "cell_type": "markdown",
      "source": [
        "Feature engineering"
      ],
      "metadata": {
        "id": "oLqA9YxqzH8I"
      }
    },
    {
      "cell_type": "code",
      "source": [
        "sdf = sdf \\\n",
        "  .withColumn(\"pickup_hour\", F.hour(\"pickup_datetime\")) \\\n",
        "  .withColumn(\"trip_duration_minutes\", F.col(\"trip_duration_minutes\")) \\\n",
        "  .withColumn(\"fare_per_mile\", F.col(\"fare_amount\") / F.col(\"trip_distance\"))\n",
        "\n",
        "feature_cols = [\n",
        "  \"passenger_count\",\n",
        "  \"trip_distance\",\n",
        "  \"trip_duration_minutes\",\n",
        "  \"pickup_hour\",\n",
        "  \"fare_amount\",\n",
        "  \"fare_per_mile\"\n",
        "]\n"
      ],
      "metadata": {
        "id": "nk9B8pbxzI-X"
      },
      "execution_count": 34,
      "outputs": []
    },
    {
      "cell_type": "markdown",
      "source": [
        "VectorAssembler + Train/Test split"
      ],
      "metadata": {
        "id": "Hr1g-D2OzXZd"
      }
    },
    {
      "cell_type": "code",
      "source": [
        "assembler = VectorAssembler(inputCols=feature_cols, outputCol=\"features\")\n",
        "train, test = sdf.randomSplit([0.8, 0.2], seed=42)\n"
      ],
      "metadata": {
        "id": "_HFJlRoazYGf"
      },
      "execution_count": 35,
      "outputs": []
    },
    {
      "cell_type": "markdown",
      "source": [
        " train your three classifiers"
      ],
      "metadata": {
        "id": "KJ2EQvGUzbMr"
      }
    },
    {
      "cell_type": "code",
      "source": [
        "models = [\n",
        "  (\"LR\",        LogisticRegression(labelCol=\"high_tip\", featuresCol=\"features\")),\n",
        "  (\"DT\",        DecisionTreeClassifier(labelCol=\"high_tip\", featuresCol=\"features\")),\n",
        "  (\"RF\",        RandomForestClassifier(labelCol=\"high_tip\", featuresCol=\"features\", numTrees=50))\n",
        "]\n",
        "\n",
        "evaluator_acc = MulticlassClassificationEvaluator(labelCol=\"high_tip\", predictionCol=\"prediction\", metricName=\"accuracy\")\n",
        "evaluator_roc = BinaryClassificationEvaluator(labelCol=\"high_tip\", rawPredictionCol=\"rawPrediction\", metricName=\"areaUnderROC\")\n",
        "\n",
        "results = []\n",
        "for name, clf in models:\n",
        "    pipeline = Pipeline(stages=[assembler, clf])\n",
        "    mdl = pipeline.fit(train)\n",
        "    preds = mdl.transform(test)\n",
        "    results.append({\n",
        "        \"model\": name,\n",
        "        \"accuracy\": evaluator_acc.evaluate(preds),\n",
        "        \"AUC\":      evaluator_roc.evaluate(preds),\n",
        "        # and for tree‐based:\n",
        "        \"features_imp\": getattr(mdl.stages[-1], \"featureImportances\", None)\n",
        "    })\n"
      ],
      "metadata": {
        "id": "dP_gHL5wzeGq"
      },
      "execution_count": 36,
      "outputs": []
    },
    {
      "cell_type": "code",
      "source": [
        "# After training each model and computing preds:\n",
        "if hasattr(mdl.stages[-1], \"featureImportances\"):\n",
        "    # Convert to a Python list of floats\n",
        "    fi_list = mdl.stages[-1].featureImportances.toArray().tolist()\n",
        "    # Pair with feature names and sort descending\n",
        "    fi_pairs = sorted(zip(feature_cols, fi_list), key=lambda x: -x[1])\n",
        "\n",
        "    print(\"Feature Importances:\")\n",
        "    for feat, score in fi_pairs:\n",
        "        # score is now a native float\n",
        "        print(f\"  {feat:25s} {score:.3f}\")\n",
        "\n",
        "for r in results:\n",
        "    print(f\"{r['model']} → Accuracy: {r['accuracy']:.4f}, AUC: {r['AUC']:.4f}\")\n",
        "    if r[\"features_imp\"] is not None:\n",
        "        print(\"Feature importances:\",\n",
        "              list(zip(feature_cols, r[\"features_imp\"].toArray())))\n"
      ],
      "metadata": {
        "colab": {
          "base_uri": "https://localhost:8080/"
        },
        "id": "GuYrqz1EzgBo",
        "outputId": "88265a98-3d79-480d-cd69-d6c4b39cf4cf"
      },
      "execution_count": 39,
      "outputs": [
        {
          "output_type": "stream",
          "name": "stdout",
          "text": [
            "Feature Importances:\n",
            "  pickup_hour               0.322\n",
            "  fare_per_mile             0.254\n",
            "  trip_distance             0.180\n",
            "  fare_amount               0.163\n",
            "  trip_duration_minutes     0.062\n",
            "  passenger_count           0.018\n",
            "LR → Accuracy: 0.5770, AUC: 0.5286\n",
            "DT → Accuracy: 0.5782, AUC: 0.4958\n",
            "Feature importances: [('passenger_count', np.float64(0.03620407911234799)), ('trip_distance', np.float64(0.14722289229861857)), ('trip_duration_minutes', np.float64(0.04427179848955791)), ('pickup_hour', np.float64(0.3082441652246936)), ('fare_amount', np.float64(0.18091560762126987)), ('fare_per_mile', np.float64(0.283141457253512))]\n",
            "RF → Accuracy: 0.5803, AUC: 0.5466\n",
            "Feature importances: [('passenger_count', np.float64(0.018232449198846312)), ('trip_distance', np.float64(0.18023004161443493)), ('trip_duration_minutes', np.float64(0.06244180902578513)), ('pickup_hour', np.float64(0.322071288512701)), ('fare_amount', np.float64(0.1628532645542172)), ('fare_per_mile', np.float64(0.25417114709401534))]\n"
          ]
        }
      ]
    }
  ]
}